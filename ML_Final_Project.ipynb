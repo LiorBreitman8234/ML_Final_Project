{
 "cells": [
  {
   "cell_type": "code",
   "execution_count": 3,
   "id": "a454c16c",
   "metadata": {},
   "outputs": [],
   "source": [
    "#import cv2\n",
    "import os\n",
    "import pandas as pd\n",
    "import numpy as np\n",
    "import matplotlib.pyplot as plt \n",
    "import seaborn as sns\n",
    "import glob\n",
    "import random\n",
    "%matplotlib inline\n",
    "import warnings\n",
    "\n",
    "warnings.filterwarnings('ignore')"
   ]
  },
  {
   "cell_type": "code",
   "execution_count": 8,
   "id": "b6ba3209",
   "metadata": {},
   "outputs": [],
   "source": [
    "Path = \"D:\\\\study\\\\Landscape_Classification\""
   ]
  },
  {
   "cell_type": "code",
   "execution_count": 34,
   "id": "818142cc",
   "metadata": {},
   "outputs": [],
   "source": [
    "def LoadImages(Path):\n",
    "    data = np.empty(1)\n",
    "    labels = np.empty(1)\n",
    "    paths = os.listdir(Path)\n",
    "    for Dir in paths:\n",
    "        for file in os.listdir(f\"{Path}\\\\{Dir}\"):\n",
    "            image = cv2.imread(file,3)#RGB\n",
    "            image = cv2.resize(image,(100,100))#smaller resolution, dont want too big images\n",
    "            pixels = image.flatten()\n",
    "            data.append(pixels)\n",
    "            labels.append(Dir)\n",
    "    return data,labels"
   ]
  },
  {
   "cell_type": "code",
   "execution_count": 35,
   "id": "9041e5bd",
   "metadata": {},
   "outputs": [],
   "source": [
    "def LoadData():\n",
    "    Train_data = np.zeros((10000,10000))\n",
    "    Test_data = np.zeros((500,10000))\n",
    "    Valid_data = np.zeros((1500,10000))\n",
    "    Train_label = np.zeros((10000))\n",
    "    Test_label = np.zeros((500))\n",
    "    Valid_label = np.zeros((1500))\n",
    "    Train_data,Train_label = LoadImages(f\"{Path}\\\\Training\")\n",
    "    Valid_data,Valid_label = LoadImages(f\"{Path}\\\\Validation\")\n",
    "    Test_data,Test_label = LoadImages(f\"{Path}\\\\Testing\")\n",
    "    return Train_data,Train_label, Test_data, Test_label , Valid_data, Valid_label"
   ]
  },
  {
   "cell_type": "code",
   "execution_count": 33,
   "id": "6ad878cf",
   "metadata": {},
   "outputs": [
    {
     "ename": "NameError",
     "evalue": "name 'cv2' is not defined",
     "output_type": "error",
     "traceback": [
      "\u001b[1;31m---------------------------------------------------------------------------\u001b[0m",
      "\u001b[1;31mNameError\u001b[0m                                 Traceback (most recent call last)",
      "\u001b[1;32m~\\AppData\\Local\\Temp\\ipykernel_89864\\2689315177.py\u001b[0m in \u001b[0;36m<module>\u001b[1;34m\u001b[0m\n\u001b[1;32m----> 1\u001b[1;33m \u001b[0mTrain_data\u001b[0m\u001b[1;33m,\u001b[0m\u001b[0mTrain_label\u001b[0m\u001b[1;33m,\u001b[0m \u001b[0mTest_data\u001b[0m\u001b[1;33m,\u001b[0m \u001b[0mTest_label\u001b[0m \u001b[1;33m,\u001b[0m \u001b[0mValid_data\u001b[0m\u001b[1;33m,\u001b[0m \u001b[0mValid_label\u001b[0m \u001b[1;33m=\u001b[0m \u001b[0mLoadData\u001b[0m\u001b[1;33m(\u001b[0m\u001b[1;33m)\u001b[0m\u001b[1;33m\u001b[0m\u001b[1;33m\u001b[0m\u001b[0m\n\u001b[0m",
      "\u001b[1;32m~\\AppData\\Local\\Temp\\ipykernel_89864\\2830539790.py\u001b[0m in \u001b[0;36mLoadData\u001b[1;34m()\u001b[0m\n\u001b[0;32m      6\u001b[0m     \u001b[0mTest_label\u001b[0m \u001b[1;33m=\u001b[0m \u001b[0mnp\u001b[0m\u001b[1;33m.\u001b[0m\u001b[0mzeros\u001b[0m\u001b[1;33m(\u001b[0m\u001b[1;33m(\u001b[0m\u001b[1;36m500\u001b[0m\u001b[1;33m)\u001b[0m\u001b[1;33m)\u001b[0m\u001b[1;33m\u001b[0m\u001b[1;33m\u001b[0m\u001b[0m\n\u001b[0;32m      7\u001b[0m     \u001b[0mValid_label\u001b[0m \u001b[1;33m=\u001b[0m \u001b[0mnp\u001b[0m\u001b[1;33m.\u001b[0m\u001b[0mzeros\u001b[0m\u001b[1;33m(\u001b[0m\u001b[1;33m(\u001b[0m\u001b[1;36m1500\u001b[0m\u001b[1;33m)\u001b[0m\u001b[1;33m)\u001b[0m\u001b[1;33m\u001b[0m\u001b[1;33m\u001b[0m\u001b[0m\n\u001b[1;32m----> 8\u001b[1;33m     \u001b[0mTrain_data\u001b[0m\u001b[1;33m,\u001b[0m\u001b[0mTrain_label\u001b[0m \u001b[1;33m=\u001b[0m \u001b[0mLoadImages\u001b[0m\u001b[1;33m(\u001b[0m\u001b[1;34mf\"{Path}\\\\Training\"\u001b[0m\u001b[1;33m)\u001b[0m\u001b[1;33m\u001b[0m\u001b[1;33m\u001b[0m\u001b[0m\n\u001b[0m\u001b[0;32m      9\u001b[0m     \u001b[0mValid_data\u001b[0m\u001b[1;33m,\u001b[0m\u001b[0mValid_label\u001b[0m \u001b[1;33m=\u001b[0m \u001b[0mLoadImages\u001b[0m\u001b[1;33m(\u001b[0m\u001b[1;34mf\"{Path}\\\\Validation\"\u001b[0m\u001b[1;33m)\u001b[0m\u001b[1;33m\u001b[0m\u001b[1;33m\u001b[0m\u001b[0m\n\u001b[0;32m     10\u001b[0m     \u001b[0mTest_data\u001b[0m\u001b[1;33m,\u001b[0m\u001b[0mTest_label\u001b[0m \u001b[1;33m=\u001b[0m \u001b[0mLoadImages\u001b[0m\u001b[1;33m(\u001b[0m\u001b[1;34mf\"{Path}\\\\Testing\"\u001b[0m\u001b[1;33m)\u001b[0m\u001b[1;33m\u001b[0m\u001b[1;33m\u001b[0m\u001b[0m\n",
      "\u001b[1;32m~\\AppData\\Local\\Temp\\ipykernel_89864\\1421655247.py\u001b[0m in \u001b[0;36mLoadImages\u001b[1;34m(Path)\u001b[0m\n\u001b[0;32m      5\u001b[0m     \u001b[1;32mfor\u001b[0m \u001b[0mDir\u001b[0m \u001b[1;32min\u001b[0m \u001b[0mpaths\u001b[0m\u001b[1;33m:\u001b[0m\u001b[1;33m\u001b[0m\u001b[1;33m\u001b[0m\u001b[0m\n\u001b[0;32m      6\u001b[0m         \u001b[1;32mfor\u001b[0m \u001b[0mfile\u001b[0m \u001b[1;32min\u001b[0m \u001b[0mos\u001b[0m\u001b[1;33m.\u001b[0m\u001b[0mlistdir\u001b[0m\u001b[1;33m(\u001b[0m\u001b[1;34mf\"{Path}\\\\{Dir}\"\u001b[0m\u001b[1;33m)\u001b[0m\u001b[1;33m:\u001b[0m\u001b[1;33m\u001b[0m\u001b[1;33m\u001b[0m\u001b[0m\n\u001b[1;32m----> 7\u001b[1;33m             \u001b[0mimage\u001b[0m \u001b[1;33m=\u001b[0m \u001b[0mcv2\u001b[0m\u001b[1;33m.\u001b[0m\u001b[0mimread\u001b[0m\u001b[1;33m(\u001b[0m\u001b[0mfile\u001b[0m\u001b[1;33m,\u001b[0m\u001b[1;36m3\u001b[0m\u001b[1;33m)\u001b[0m\u001b[1;31m#RGB\u001b[0m\u001b[1;33m\u001b[0m\u001b[1;33m\u001b[0m\u001b[0m\n\u001b[0m\u001b[0;32m      8\u001b[0m             \u001b[0mimage\u001b[0m \u001b[1;33m=\u001b[0m \u001b[0mcv2\u001b[0m\u001b[1;33m.\u001b[0m\u001b[0mresize\u001b[0m\u001b[1;33m(\u001b[0m\u001b[0mimage\u001b[0m\u001b[1;33m,\u001b[0m\u001b[1;33m(\u001b[0m\u001b[1;36m100\u001b[0m\u001b[1;33m,\u001b[0m\u001b[1;36m100\u001b[0m\u001b[1;33m)\u001b[0m\u001b[1;33m)\u001b[0m\u001b[1;33m\u001b[0m\u001b[1;33m\u001b[0m\u001b[0m\n\u001b[0;32m      9\u001b[0m             \u001b[0mpixels\u001b[0m \u001b[1;33m=\u001b[0m \u001b[0mimage\u001b[0m\u001b[1;33m.\u001b[0m\u001b[0mflatten\u001b[0m\u001b[1;33m(\u001b[0m\u001b[1;33m)\u001b[0m\u001b[1;33m\u001b[0m\u001b[1;33m\u001b[0m\u001b[0m\n",
      "\u001b[1;31mNameError\u001b[0m: name 'cv2' is not defined"
     ]
    }
   ],
   "source": [
    "Train_data,Train_label, Test_data, Test_label , Valid_data, Valid_label = LoadData()"
   ]
  },
  {
   "cell_type": "code",
   "execution_count": null,
   "id": "8687bbee",
   "metadata": {},
   "outputs": [],
   "source": []
  }
 ],
 "metadata": {
  "kernelspec": {
   "display_name": "Python 3 (ipykernel)",
   "language": "python",
   "name": "python3"
  },
  "language_info": {
   "codemirror_mode": {
    "name": "ipython",
    "version": 3
   },
   "file_extension": ".py",
   "mimetype": "text/x-python",
   "name": "python",
   "nbconvert_exporter": "python",
   "pygments_lexer": "ipython3",
   "version": "3.9.13"
  }
 },
 "nbformat": 4,
 "nbformat_minor": 5
}
