{
 "cells": [
  {
   "cell_type": "code",
   "execution_count": 50,
   "id": "a454c16c",
   "metadata": {},
   "outputs": [],
   "source": [
    "import cv2\n",
    "import os\n",
    "import pandas as pd\n",
    "import numpy as np\n",
    "import matplotlib.pyplot as plt \n",
    "import seaborn as sns\n",
    "import glob\n",
    "import random\n",
    "import time\n",
    "%matplotlib inline\n",
    "import warnings\n",
    "warnings.filterwarnings('ignore')"
   ]
  },
  {
   "cell_type": "code",
   "execution_count": 51,
   "id": "b6ba3209",
   "metadata": {},
   "outputs": [],
   "source": [
    "Path = \"D:\\\\study\\\\Landscape_Classification\""
   ]
  },
  {
   "cell_type": "code",
   "execution_count": 128,
   "id": "1e5ca3c9",
   "metadata": {},
   "outputs": [],
   "source": [
    "def labelToNum(label):\n",
    "    if label == 'Coast':\n",
    "        return 1\n",
    "    if label ==  'Desert':\n",
    "        return 2\n",
    "    if label == 'Forest':\n",
    "        return 3\n",
    "    if label == 'Glacier':\n",
    "        return 4\n",
    "    if label == 'Mountain':\n",
    "        return 5"
   ]
  },
  {
   "cell_type": "code",
   "execution_count": 129,
   "id": "818142cc",
   "metadata": {},
   "outputs": [],
   "source": [
    "def LoadImages(Path):\n",
    "    if 'Training' in Path:\n",
    "        data = np.ndarray((10000,75*75*3))\n",
    "    elif 'Validation' in Path:\n",
    "        data = np.ndarray((1500,75*75*3))\n",
    "    else:\n",
    "        data = np.ndarray((500,75*75*3))\n",
    "    labels = []\n",
    "    first = True\n",
    "    paths = os.listdir(Path)\n",
    "    i = 0\n",
    "    for Dir in paths:\n",
    "        dir_time = time.time()\n",
    "        for file in os.listdir(f\"{Path}\\\\{Dir}\"):\n",
    "            image = cv2.imread(f\"{Path}\\\\{Dir}\\\\{file}\")#RGB\n",
    "            image = cv2.resize(image,(75,75))#smaller resolution, dont want too big images\n",
    "            pixels = image.flatten()\n",
    "            data[i] = pixels\n",
    "            i +=1\n",
    "            labels.append(labelToNum(Dir))\n",
    "    return data,labels"
   ]
  },
  {
   "cell_type": "code",
   "execution_count": 133,
   "id": "9041e5bd",
   "metadata": {},
   "outputs": [],
   "source": [
    "def LoadData():\n",
    "    train_data, train_labels = LoadImages(f\"{Path}\\\\Training\")\n",
    "    valid_data, valid_labels = LoadImages(f\"{Path}\\\\Validation\")\n",
    "    test_data, test_labels = LoadImages(f\"{Path}\\\\Testing\")\n",
    "    return train_data,train_labels,valid_data,valid_labels,test_data,test_labels"
   ]
  },
  {
   "cell_type": "code",
   "execution_count": 134,
   "id": "6ad878cf",
   "metadata": {},
   "outputs": [],
   "source": [
    "train_data,train_labels,valid_data,valid_labels,test_data,test_labels = LoadData()"
   ]
  },
  {
   "cell_type": "code",
   "execution_count": 142,
   "id": "8687bbee",
   "metadata": {},
   "outputs": [],
   "source": [
    "from sklearn.linear_model import LogisticRegression\n",
    "from sklearn.model_selection import cross_val_score"
   ]
  },
  {
   "cell_type": "code",
   "execution_count": 145,
   "id": "75820a5c",
   "metadata": {},
   "outputs": [],
   "source": [
    "logic = LogisticRegression(random_state = 5)\n",
    "scores = cross_val_score(logic, train_data, train_labels, cv=5)"
   ]
  },
  {
   "cell_type": "code",
   "execution_count": 146,
   "id": "193ef538",
   "metadata": {},
   "outputs": [
    {
     "name": "stdout",
     "output_type": "stream",
     "text": [
      "[0.5535 0.603  0.598  0.559  0.5495]\n"
     ]
    }
   ],
   "source": [
    "print(scores)"
   ]
  },
  {
   "cell_type": "code",
   "execution_count": null,
   "id": "1c8168b5",
   "metadata": {},
   "outputs": [],
   "source": []
  }
 ],
 "metadata": {
  "kernelspec": {
   "display_name": "Python 3 (ipykernel)",
   "language": "python",
   "name": "python3"
  },
  "language_info": {
   "codemirror_mode": {
    "name": "ipython",
    "version": 3
   },
   "file_extension": ".py",
   "mimetype": "text/x-python",
   "name": "python",
   "nbconvert_exporter": "python",
   "pygments_lexer": "ipython3",
   "version": "3.9.13"
  }
 },
 "nbformat": 4,
 "nbformat_minor": 5
}
